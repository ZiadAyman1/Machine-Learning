{
 "cells": [
  {
   "cell_type": "markdown",
   "metadata": {
    "id": "35roXDEMudbw"
   },
   "source": [
    "# GUC Clustering Project "
   ]
  },
  {
   "cell_type": "code",
   "execution_count": null,
   "metadata": {
    "id": "YCwbCzREudb1"
   },
   "outputs": [],
   "source": []
  },
  {
   "cell_type": "markdown",
   "metadata": {
    "id": "CIiItKbYudb2"
   },
   "source": [
    "**Objective:** \n",
    "The objective of this project teach students how to apply clustering to real data sets\n",
    "\n",
    "The projects aims to teach student: \n",
    "* Which clustering approach to use\n",
    "* Compare between Kmeans, Hierarchal, DBScan, and Gaussian Mixtures  \n",
    "* How to tune the parameters of each data approach\n",
    "* What is the effect of different distance functions (optional) \n",
    "* How to evaluate clustering approachs \n",
    "* How to display the output\n",
    "* What is the effect of normalizing the data \n",
    "\n",
    "Students in this project will use ready-made functions from Sklearn, plotnine, numpy and pandas \n",
    " \n",
    "\n"
   ]
  },
  {
   "cell_type": "code",
   "execution_count": null,
   "metadata": {
    "id": "MtHElDYdudb3"
   },
   "outputs": [],
   "source": [
    "# if plotnine is not installed in Jupter then use the following command to install it \n",
    "!pip install plotnine\n"
   ]
  },
  {
   "cell_type": "markdown",
   "metadata": {
    "id": "5RHS5ZoQudb4"
   },
   "source": [
    "Running this project require the following imports "
   ]
  },
  {
   "cell_type": "code",
   "execution_count": null,
   "metadata": {
    "id": "QrueqJenudb5"
   },
   "outputs": [],
   "source": [
    "import warnings\n",
    "warnings.filterwarnings('ignore')\n",
    "import seaborn as sns \n",
    "import matplotlib.pyplot as plt\n",
    "import pandas as pd\n",
    "import numpy as np\n",
    "import sklearn.preprocessing as prep\n",
    "from sklearn.datasets import make_blobs\n",
    "from plotnine import *   \n",
    "from sklearn.preprocessing import StandardScaler\n",
    "# StandardScaler is a function to normalize the data \n",
    "# You may also check MinMaxScaler and MaxAbsScaler \n",
    "#from sklearn.preprocessing import StandardScaler\n",
    "from sklearn.neighbors import NearestNeighbors\n",
    "\n",
    "from sklearn.cluster import DBSCAN\n",
    "\n",
    "from sklearn.cluster import AgglomerativeClustering\n",
    "from sklearn.cluster import KMeans\n",
    "from sklearn.mixture import GaussianMixture\n",
    "\n",
    "from sklearn.metrics import silhouette_samples, silhouette_score\n",
    "\n",
    "from yellowbrick.cluster import KElbowVisualizer\n",
    "\n",
    "%matplotlib inline\n",
    "\n",
    "import scipy.cluster.hierarchy as shc"
   ]
  },
  {
   "cell_type": "code",
   "execution_count": null,
   "metadata": {
    "id": "ju2Zj6-nudb5"
   },
   "outputs": [],
   "source": [
    "# helper function that allows us to display data in 2 dimensions an highlights the clusters\n",
    "def display_cluster(X,km=[],num_clusters=0):\n",
    "    color = 'brgcmyk'  #List colors\n",
    "    alpha = 0.5  #color obaque\n",
    "    s = 20\n",
    "    if num_clusters == 0:\n",
    "        plt.scatter(X[:,0],X[:,1],c = color[0],alpha = alpha,s = s)\n",
    "    else:\n",
    "        for i in range(num_clusters):\n",
    "            plt.scatter(X[km.labels_==i,0],X[km.labels_==i,1],c = color[i],alpha = alpha,s=s)\n",
    "            plt.scatter(km.cluster_centers_[i][0],km.cluster_centers_[i][1],c = color[i], marker = 'x', s = 100)"
   ]
  },
  {
   "cell_type": "markdown",
   "metadata": {
    "id": "hZnIbT3Mudb6"
   },
   "source": [
    "## Multi Blob Data Set \n",
    "* The Data Set generated below has 6 cluster with varying number of users and varing densities\n",
    "* Cluster the data set below using \n",
    "\n"
   ]
  },
  {
   "cell_type": "code",
   "execution_count": null,
   "metadata": {
    "id": "JeSqG318udb7",
    "outputId": "078fad92-3073-4558-b1e8-f0acd8d85d34"
   },
   "outputs": [],
   "source": [
    "plt.rcParams['figure.figsize'] = [8,8]\n",
    "sns.set_style(\"whitegrid\")\n",
    "sns.set_context(\"talk\")\n",
    "\n",
    "n_bins = 6  \n",
    "centers = [(-3, -3), (0, 0), (5,2.5),(-1, 4), (4, 6), (9,7)]\n",
    "Multi_blob_Data, y = make_blobs(n_samples=[100,150, 300, 400,300, 200], n_features=2, cluster_std=[1.3,0.6, 1.2, 1.7,0.9,1.7],\n",
    "                  centers=centers, shuffle=False, random_state=42)\n",
    "display_cluster(Multi_blob_Data)"
   ]
  },
  {
   "cell_type": "markdown",
   "metadata": {
    "id": "GDSIGjubudb8"
   },
   "source": [
    "### Kmeans \n",
    "* Use Kmeans with different values of K to cluster the above data \n",
    "* Display the outcome of each value of K \n",
    "* Plot distortion function versus K and choose the approriate value of k \n",
    "* Plot the silhouette_score versus K and use it to choose the best K \n",
    "* Store the silhouette_score for the best K for later comparison with other clustering techniques. "
   ]
  },
  {
   "cell_type": "code",
   "execution_count": null,
   "metadata": {},
   "outputs": [],
   "source": [
    "def KMEANS(data) :\n",
    "    model = KMeans() \n",
    "    visualizer = KElbowVisualizer(model, k=(2,15), metric='distortion', timings=False)\n",
    "    visualizer.fit(data)    \n",
    "    visualizer.poof()\n",
    "    \n",
    "    n=visualizer.elbow_value_.T\n",
    "    \n",
    "    visualizer2 = KElbowVisualizer(model, k=(2,15), metric='silhouette', timings=False)\n",
    "    visualizer2.fit(data)\n",
    "     \n",
    "    elbow_score=visualizer2.elbow_score_.T\n",
    "    \n",
    "    \n",
    "    km =KMeans(n_clusters =n).fit(data)\n",
    "    plt.figure(figsize=(10, 7))\n",
    "    plt.scatter(data[:,0], data[:,1], c=km.labels_, cmap='rainbow')\n",
    "    print(\"the best value of k is: \" +str(n))\n",
    "    print(\"the max silhouette score is :  \" + str(elbow_score))\n",
    "  \n",
    "    return elbow_score\n",
    "\n"
   ]
  },
  {
   "cell_type": "code",
   "execution_count": null,
   "metadata": {},
   "outputs": [],
   "source": [
    "KMEANS(Multi_blob_Data)"
   ]
  },
  {
   "cell_type": "markdown",
   "metadata": {
    "id": "kE7dvpOAudb9"
   },
   "source": [
    "### Hierarchal Clustering\n",
    "* Use AgglomerativeClustering function to  to cluster the above data \n",
    "* In the  AgglomerativeClustering change the following parameters \n",
    "    * Affinity (use euclidean, manhattan and cosine)\n",
    "    * Linkage( use average and single )\n",
    "    * Distance_threshold (try different)\n",
    "* For each of these trials plot the Dendograph , calculate the silhouette_score and display the resulting clusters  \n",
    "* Find the set of paramters that would find result in the best silhouette_score and store this score for later comparison with other clustering techniques. \n",
    "* Record your observation "
   ]
  },
  {
   "cell_type": "code",
   "execution_count": null,
   "metadata": {
    "id": "3O_6WwKoudb-"
   },
   "outputs": [],
   "source": [
    "def Hierarchal_clustering(data) :\n",
    "\n",
    "\n",
    "    top_scores=[]\n",
    "    affinity_ziad=['manhattan','cosine','euclidean']\n",
    "    linkage_ziad=['single','average']\n",
    "    \n",
    "    for i in affinity_ziad :\n",
    "        for j in linkage_ziad :\n",
    "            \n",
    "            print(\"  \")\n",
    "            print(\"heyheyhey  \" +i +\"  \" +j)\n",
    "            plt.figure(figsize=(10, 7))\n",
    "            plt.title(\"Dendogram \" + i +\" \" +j)\n",
    "            \n",
    "            if(i=='manhattan') :\n",
    "                dend = shc.dendrogram(shc.linkage(data, method=j,metric='cityblock'))\n",
    "            else :\n",
    "                dend = shc.dendrogram(shc.linkage(data, method=j,metric=i))\n",
    "              \n",
    "            \n",
    "            \n",
    "            score=[]\n",
    "            ncluster=[]\n",
    "            \n",
    "            \n",
    "            a=np.min(dend['dcoord'])\n",
    "            b=np.max(dend['dcoord'])\n",
    "            s=(b-a)/10\n",
    "            \n",
    "            \n",
    "            \n",
    "            \n",
    "            for c in np.arange(a+s,b,s):\n",
    "                cluster = AgglomerativeClustering(n_clusters=None, affinity=i, linkage=j,distance_threshold=c)\n",
    "                cluster.fit_predict(data)\n",
    "                ncluster.append(len(np.unique(cluster.labels_)))\n",
    "                score.append(silhouette_score(data, cluster.labels_, metric=i))\n",
    "                plt.figure(figsize=(10, 7))\n",
    "                plt.title(\"figure \" + i +\" \" +j +\" distance_threshold: \"+str(c))\n",
    "                plt.scatter(data[:,0], data[:,1], c=cluster.labels_, cmap='rainbow')\n",
    "                \n",
    "            \n",
    "            bestsil=max(score)\n",
    "            print(\"the best silhouette score is:\" +' '+str(bestsil)+\"  \" +i +\"  \"+j)\n",
    "            print(\"The number of clusters is \"+str(ncluster[score.index(max(score))]))\n",
    "            print(\"the distance threshold is : \" +str(a+s+s*score.index(max(score))))\n",
    "            top_scores.append(bestsil)\n",
    "\n",
    "    return top_scores\n"
   ]
  },
  {
   "cell_type": "code",
   "execution_count": null,
   "metadata": {},
   "outputs": [],
   "source": [
    "Hierarchal_clustering(Multi_blob_Data)"
   ]
  },
  {
   "cell_type": "markdown",
   "metadata": {
    "id": "myJE7vQKudb-"
   },
   "source": [
    "### DBScan\n",
    "* Use DBScan function to  to cluster the above data \n",
    "* In the  DBscan change the following parameters \n",
    "    * EPS (from 0.1 to 3)\n",
    "    * Min_samples (from 5 to 25)\n",
    "* Plot the silhouette_score versus the variation in the EPS and the min_samples\n",
    "* Plot the resulting Clusters in this case \n",
    "* Find the set of paramters that would find result in the best silhouette_score and store this score for later comparison with other clustering techniques. \n",
    "* Record your observations and comments "
   ]
  },
  {
   "cell_type": "code",
   "execution_count": null,
   "metadata": {},
   "outputs": [],
   "source": [
    "def DBSCANNER(data):\n",
    "\n",
    "    \n",
    "    ii=np.arange(0.1,3,0.1)\n",
    "    jj=range(5,25)\n",
    "    sil=np.empty((len(ii),len(jj)),float)\n",
    "    \n",
    "    a=0\n",
    "    b=0\n",
    "    \n",
    "    \n",
    "    #x=[]\n",
    "    #y=[]\n",
    "    #z=[]\n",
    "    \n",
    "    for i in ii :\n",
    "        \n",
    "        for j in jj :\n",
    "            DBScan = DBSCAN(eps=i, min_samples=j).fit(data)\n",
    "            plt.scatter(data[:,0], data[:,1], c=DBScan.labels_, cmap='rainbow')\n",
    "            plt.title(\"eps=\"+str(i)[0:3]+\"   min_samples\"+str(j))\n",
    "            plt.show()\n",
    "            n=len(set(DBScan.labels_))\n",
    "            \n",
    "            if(n>1):\n",
    "                sil[a][b]=silhouette_score(data,DBScan.labels_)\n",
    "                #if(n==6) :\n",
    "                    #x.append(a)\n",
    "                    #y.append(b)\n",
    "                    #z.append(silhouette_score(Multi_blob_Data,DBScan.labels_))\n",
    "                    \n",
    "            else :\n",
    "                sil[a][b]=-1\n",
    "                \n",
    "            b+=1\n",
    "    \n",
    "        a+=1\n",
    "        b=0\n",
    "        \n",
    "    \n",
    "    \n",
    "    plt.colorbar(plt.imshow(sil,cmap='viridis'))\n",
    "    plt.clf()\n",
    "    \n",
    "    max_index=np.unravel_index(sil.argmax(), sil.shape)\n",
    "    \n",
    "    best_eps=ii[max_index[0]]\n",
    "    best_min_samples=jj[max_index[1]]\n",
    "    \n",
    "    DBScan = DBSCAN(eps=best_eps, min_samples=best_min_samples).fit(data)\n",
    "    plt.scatter(data[:,0], data[:,1], c=DBScan.labels_, cmap='rainbow')\n",
    "    plt.title(\"eps=\"+str(best_eps)+\"   min_samples\"+str(best_min_samples))\n",
    "    plt.show()\n",
    "    \n",
    "    max_score=sil[max_index[0]][max_index[1]]\n",
    "\n",
    "    print(\"the best value of eps is: \" +str(best_eps))\n",
    "    print(\"the best value of min_samples is: \" +str(best_min_samples))\n",
    "    print(\"the max silhouette score is :  \" + str(max_score))\n",
    "  \n",
    "\n",
    "\n",
    "       \n",
    "    return max_score    \n"
   ]
  },
  {
   "cell_type": "code",
   "execution_count": null,
   "metadata": {},
   "outputs": [],
   "source": [
    "DBSCANNER(Multi_blob_Data)"
   ]
  },
  {
   "cell_type": "code",
   "execution_count": null,
   "metadata": {
    "scrolled": true
   },
   "outputs": [],
   "source": [
    "plt.colorbar(plt.imshow(sil,cmap='viridis'))"
   ]
  },
  {
   "cell_type": "markdown",
   "metadata": {
    "id": "Ip16g1QFudb_"
   },
   "source": [
    "### Gaussian Mixture\n",
    "* Use GaussianMixture function to cluster the above data \n",
    "* In GMM change the covariance_type and check the difference in the resulting proabability fit \n",
    "* Use a 2D contour plot to plot the resulting distribution (the components of the GMM) as well as the total Gaussian mixture "
   ]
  },
  {
   "cell_type": "code",
   "execution_count": null,
   "metadata": {},
   "outputs": [],
   "source": [
    "# 'full' (each component has its own general covariance matrix) \n",
    "# 'tied' (all components share the same general covariance matrix)\n",
    "# 'diag' (each component has its own diagonal covariance matrix)\n",
    "# 'spherical' (each component has its own single variance)\n",
    "\n",
    "def Gaussian(data):\n",
    "    \n",
    "    types=['full','tied','diag','spherical']\n",
    "    score=-100\n",
    "    for i in types :\n",
    "        for j in range(2,10):\n",
    "            print(\" \")\n",
    "            print(j)\n",
    "            GM = GaussianMixture(n_components=j,covariance_type=i).fit(data)\n",
    "            plt.scatter(data[:, 0], data[:, 1], c=GM.predict(data), cmap='rainbow');\n",
    "            X, Y = np.meshgrid(np.linspace(-6,15), np.linspace(-6,15))\n",
    "            XX = np.array([X.ravel(), Y.ravel()]).T\n",
    "            Z = GM.score_samples(XX)\n",
    "            Z = Z.reshape((50,50))\n",
    "            plt.title(i +\" n_components: \"+str(j))\n",
    "            plt.contour(X, Y, Z,levels=50) \n",
    "            plt.scatter(data[:, 0], data[:, 1], c=GM.predict(data), cmap='rainbow');\n",
    "            plt.show()\n",
    "            \n",
    " \n",
    "    \n",
    "    return score"
   ]
  },
  {
   "cell_type": "code",
   "execution_count": null,
   "metadata": {},
   "outputs": [],
   "source": [
    "Gaussian(Multi_blob_Data)"
   ]
  },
  {
   "cell_type": "markdown",
   "metadata": {
    "id": "m92lZkkyudb_"
   },
   "source": [
    "## iris data set \n",
    "The iris data set is test data set that is part of the Sklearn module \n",
    "which contains 150 records each with 4 features. All the features are represented by real numbers \n",
    "\n",
    "The data represents three classes \n"
   ]
  },
  {
   "cell_type": "code",
   "execution_count": null,
   "metadata": {
    "id": "_QaCWyyCudcA",
    "outputId": "79c14dba-80cf-4d96-e69d-70763b789faf"
   },
   "outputs": [],
   "source": [
    "from sklearn.datasets import load_iris\n",
    "iris_data = load_iris()\n",
    "iris_data.target[[10, 25, 50]]\n",
    "#array([0, 0, 1])\n",
    "list(iris_data.target_names)\n",
    "['setosa', 'versicolor', 'virginica']\n"
   ]
  },
  {
   "cell_type": "code",
   "execution_count": null,
   "metadata": {},
   "outputs": [],
   "source": [
    "iris = pd.DataFrame(iris_data.data, columns = iris_data.feature_names)\n",
    "iris['target'] = iris_data.target\n",
    "X = iris_data.data\n",
    "\n"
   ]
  },
  {
   "cell_type": "code",
   "execution_count": null,
   "metadata": {},
   "outputs": [],
   "source": [
    "sepal=np.array(iris[iris.columns[0:2]])\n",
    "petal=np.array(iris[iris.columns[2:4]])"
   ]
  },
  {
   "cell_type": "code",
   "execution_count": null,
   "metadata": {},
   "outputs": [],
   "source": [
    "KMEANS(sepal)"
   ]
  },
  {
   "cell_type": "code",
   "execution_count": null,
   "metadata": {},
   "outputs": [],
   "source": [
    "KMEANS(petal)"
   ]
  },
  {
   "cell_type": "code",
   "execution_count": null,
   "metadata": {},
   "outputs": [],
   "source": [
    "Hierarchal_clustering(sepal)"
   ]
  },
  {
   "cell_type": "code",
   "execution_count": null,
   "metadata": {},
   "outputs": [],
   "source": [
    "Hierarchal_clustering(petal)"
   ]
  },
  {
   "cell_type": "code",
   "execution_count": null,
   "metadata": {},
   "outputs": [],
   "source": [
    "DBSCANNER(sepal)"
   ]
  },
  {
   "cell_type": "code",
   "execution_count": null,
   "metadata": {},
   "outputs": [],
   "source": [
    "DBSCANNER(petal)"
   ]
  },
  {
   "cell_type": "code",
   "execution_count": null,
   "metadata": {},
   "outputs": [],
   "source": [
    "Gaussian(sepal)"
   ]
  },
  {
   "cell_type": "code",
   "execution_count": null,
   "metadata": {},
   "outputs": [],
   "source": [
    "Gaussian(petal)"
   ]
  },
  {
   "cell_type": "code",
   "execution_count": null,
   "metadata": {},
   "outputs": [],
   "source": [
    "scaler = StandardScaler()\n",
    "scaler.fit(iris.drop('target',axis=1))\n",
    "scaled_features = scaler.transform(iris.drop('target',axis=1))"
   ]
  },
  {
   "cell_type": "code",
   "execution_count": null,
   "metadata": {},
   "outputs": [],
   "source": [
    "iris = pd.DataFrame(iris_data.data, columns = iris_data.feature_names)\n",
    "iris['target'] = iris_data.target\n",
    "#X = iris_data.data\n",
    "\n",
    "\n"
   ]
  },
  {
   "cell_type": "code",
   "execution_count": null,
   "metadata": {},
   "outputs": [],
   "source": [
    "sepal_scaled=np.array(iris[iris.columns[0:2]])\n",
    "petal_scaled=np.array(iris[iris.columns[2:4]])"
   ]
  },
  {
   "cell_type": "code",
   "execution_count": null,
   "metadata": {},
   "outputs": [],
   "source": [
    "KMEANS(sepal_scaled)"
   ]
  },
  {
   "cell_type": "code",
   "execution_count": null,
   "metadata": {},
   "outputs": [],
   "source": [
    "KMEANS(petal_scaled)"
   ]
  },
  {
   "cell_type": "code",
   "execution_count": null,
   "metadata": {},
   "outputs": [],
   "source": [
    "Hierarchal_clustering(sepal_scaled)"
   ]
  },
  {
   "cell_type": "code",
   "execution_count": null,
   "metadata": {},
   "outputs": [],
   "source": [
    "Hierarchal_clustering(petal_scaled)"
   ]
  },
  {
   "cell_type": "code",
   "execution_count": null,
   "metadata": {},
   "outputs": [],
   "source": [
    "DBSCANNER(sepal_scaled)"
   ]
  },
  {
   "cell_type": "code",
   "execution_count": null,
   "metadata": {},
   "outputs": [],
   "source": [
    "DBSCANNER(petal_scaled)"
   ]
  },
  {
   "cell_type": "code",
   "execution_count": null,
   "metadata": {},
   "outputs": [],
   "source": [
    "Gaussian(sepal_scaled)"
   ]
  },
  {
   "cell_type": "code",
   "execution_count": null,
   "metadata": {},
   "outputs": [],
   "source": [
    "Gaussian(petal_scaled)"
   ]
  },
  {
   "cell_type": "markdown",
   "metadata": {
    "id": "WyoCVfyMudcA"
   },
   "source": [
    "* Repeat all the above clustering approaches and steps on the above data \n",
    "* Normalize the data then repeat all the above steps \n",
    "* Compare between the different clustering approaches "
   ]
  },
  {
   "cell_type": "markdown",
   "metadata": {
    "id": "N2oBmWT2udcA"
   },
   "source": [
    "## Customer dataset\n",
    "Repeat all the above on the customer data set "
   ]
  },
  {
   "cell_type": "code",
   "execution_count": null,
   "metadata": {},
   "outputs": [],
   "source": [
    "my_data =pd.read_csv('Customer data.csv')"
   ]
  },
  {
   "cell_type": "code",
   "execution_count": null,
   "metadata": {},
   "outputs": [],
   "source": [
    "my_data.head()"
   ]
  },
  {
   "cell_type": "code",
   "execution_count": null,
   "metadata": {},
   "outputs": [],
   "source": [
    "my_data=my_data.drop(\"ID\",axis=1)"
   ]
  },
  {
   "cell_type": "code",
   "execution_count": null,
   "metadata": {},
   "outputs": [],
   "source": [
    "\n",
    "my_data.head()"
   ]
  },
  {
   "cell_type": "code",
   "execution_count": null,
   "metadata": {},
   "outputs": [],
   "source": [
    "scaler2 = StandardScaler()\n",
    "scaler2.fit(my_data.drop('Settlement size',axis=1))\n",
    "scaled_features2 = scaler2.transform(my_data.drop('Settlement size',axis=1))\n",
    "customer_scaled = pd.DataFrame(scaled_features2,columns=my_data.columns[:-1])\n",
    "customer_scaled.head()"
   ]
  },
  {
   "cell_type": "code",
   "execution_count": null,
   "metadata": {},
   "outputs": [],
   "source": [
    "sepal_scaled=np.array(customer_scaled[customer_scaled.columns[0:2]])\n",
    "petal_scaled=np.array(customer_scaled[customer_scaled.columns[2:4]])"
   ]
  },
  {
   "cell_type": "code",
   "execution_count": null,
   "metadata": {},
   "outputs": [],
   "source": [
    "KMEANS(petal_scaled)"
   ]
  },
  {
   "cell_type": "code",
   "execution_count": null,
   "metadata": {},
   "outputs": [],
   "source": [
    "KMEANS(sepal_scaled)"
   ]
  },
  {
   "cell_type": "code",
   "execution_count": null,
   "metadata": {},
   "outputs": [],
   "source": [
    "Hierarchal_clustering(sepal_scaled)"
   ]
  },
  {
   "cell_type": "code",
   "execution_count": null,
   "metadata": {},
   "outputs": [],
   "source": [
    "Hierarchal_clustering(petal_scaled)"
   ]
  },
  {
   "cell_type": "code",
   "execution_count": null,
   "metadata": {},
   "outputs": [],
   "source": [
    "DBSCANNER(sepal)"
   ]
  },
  {
   "cell_type": "code",
   "execution_count": null,
   "metadata": {},
   "outputs": [],
   "source": [
    "DBSCANNER(petal)"
   ]
  },
  {
   "cell_type": "code",
   "execution_count": null,
   "metadata": {},
   "outputs": [],
   "source": [
    "Gaussian(sepal_scaled)"
   ]
  },
  {
   "cell_type": "code",
   "execution_count": null,
   "metadata": {},
   "outputs": [],
   "source": [
    "Gaussian(petal_scaled)"
   ]
  },
  {
   "cell_type": "code",
   "execution_count": null,
   "metadata": {},
   "outputs": [],
   "source": []
  },
  {
   "cell_type": "code",
   "execution_count": null,
   "metadata": {},
   "outputs": [],
   "source": []
  }
 ],
 "metadata": {
  "colab": {
   "name": "Clustering Project.ipynb",
   "provenance": []
  },
  "kernelspec": {
   "display_name": "Python 3",
   "language": "python",
   "name": "python3"
  },
  "language_info": {
   "codemirror_mode": {
    "name": "ipython",
    "version": 3
   },
   "file_extension": ".py",
   "mimetype": "text/x-python",
   "name": "python",
   "nbconvert_exporter": "python",
   "pygments_lexer": "ipython3",
   "version": "3.7.3"
  }
 },
 "nbformat": 4,
 "nbformat_minor": 1
}
